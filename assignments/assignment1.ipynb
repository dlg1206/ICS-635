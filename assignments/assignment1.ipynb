{
 "cells": [
  {
   "cell_type": "markdown",
   "id": "534ae5e34041095a",
   "metadata": {
    "collapsed": false,
    "jupyter": {
     "outputs_hidden": false
    }
   },
   "source": [
    "# ICS 635 - Assignment 1\n",
    "> Derek Garcia"
   ]
  },
  {
   "cell_type": "markdown",
   "id": "bbec1bcb38f50fff",
   "metadata": {
    "collapsed": false,
    "jupyter": {
     "outputs_hidden": false
    }
   },
   "source": [
    "## Task 1: Data Preprocessing"
   ]
  },
  {
   "cell_type": "code",
   "execution_count": 1,
   "id": "initial_id",
   "metadata": {
    "ExecuteTime": {
     "end_time": "2025-01-31T02:12:11.652687600Z",
     "start_time": "2025-01-31T02:12:10.806765100Z"
    },
    "collapsed": true,
    "jupyter": {
     "outputs_hidden": true
    }
   },
   "outputs": [],
   "source": [
    "from sklearn.model_selection import train_test_split\n",
    "from sklearn.preprocessing import StandardScaler\n",
    "from sklearn.datasets import load_breast_cancer\n",
    "\n",
    "# load data\n",
    "breast_cancer_data = load_breast_cancer()\n",
    "x, y = breast_cancer_data.data, breast_cancer_data.target\n",
    "\n",
    "# split data 80/20 - x are features and y are labels\n",
    "# https://realpython.com/train-test-split-python-data/\n",
    "x_train_data, x_test_data, y_train_data, y_test_data = train_test_split(x, y, test_size=0.2)\n",
    "\n",
    "# scale features\n",
    "# fit_transform on first training to learn AND apply transformation, then just transform the test - don't re-learn\n",
    "scaler = StandardScaler()\n",
    "x_train_data, x_test_data = scaler.fit_transform(x_train_data), scaler.transform(x_test_data)"
   ]
  },
  {
   "cell_type": "markdown",
   "id": "1a1fca56d82180c6",
   "metadata": {
    "collapsed": false,
    "jupyter": {
     "outputs_hidden": false
    }
   },
   "source": [
    "## Task 2: Model Training"
   ]
  },
  {
   "cell_type": "code",
   "execution_count": 2,
   "id": "f0991fc7894fd01a",
   "metadata": {
    "ExecuteTime": {
     "end_time": "2025-01-31T02:12:12.170964300Z",
     "start_time": "2025-01-31T02:12:11.657063900Z"
    },
    "collapsed": false,
    "jupyter": {
     "outputs_hidden": false
    }
   },
   "outputs": [
    {
     "data": {
      "text/html": [
       "<style>#sk-container-id-1 {\n",
       "  /* Definition of color scheme common for light and dark mode */\n",
       "  --sklearn-color-text: #000;\n",
       "  --sklearn-color-text-muted: #666;\n",
       "  --sklearn-color-line: gray;\n",
       "  /* Definition of color scheme for unfitted estimators */\n",
       "  --sklearn-color-unfitted-level-0: #fff5e6;\n",
       "  --sklearn-color-unfitted-level-1: #f6e4d2;\n",
       "  --sklearn-color-unfitted-level-2: #ffe0b3;\n",
       "  --sklearn-color-unfitted-level-3: chocolate;\n",
       "  /* Definition of color scheme for fitted estimators */\n",
       "  --sklearn-color-fitted-level-0: #f0f8ff;\n",
       "  --sklearn-color-fitted-level-1: #d4ebff;\n",
       "  --sklearn-color-fitted-level-2: #b3dbfd;\n",
       "  --sklearn-color-fitted-level-3: cornflowerblue;\n",
       "\n",
       "  /* Specific color for light theme */\n",
       "  --sklearn-color-text-on-default-background: var(--sg-text-color, var(--theme-code-foreground, var(--jp-content-font-color1, black)));\n",
       "  --sklearn-color-background: var(--sg-background-color, var(--theme-background, var(--jp-layout-color0, white)));\n",
       "  --sklearn-color-border-box: var(--sg-text-color, var(--theme-code-foreground, var(--jp-content-font-color1, black)));\n",
       "  --sklearn-color-icon: #696969;\n",
       "\n",
       "  @media (prefers-color-scheme: dark) {\n",
       "    /* Redefinition of color scheme for dark theme */\n",
       "    --sklearn-color-text-on-default-background: var(--sg-text-color, var(--theme-code-foreground, var(--jp-content-font-color1, white)));\n",
       "    --sklearn-color-background: var(--sg-background-color, var(--theme-background, var(--jp-layout-color0, #111)));\n",
       "    --sklearn-color-border-box: var(--sg-text-color, var(--theme-code-foreground, var(--jp-content-font-color1, white)));\n",
       "    --sklearn-color-icon: #878787;\n",
       "  }\n",
       "}\n",
       "\n",
       "#sk-container-id-1 {\n",
       "  color: var(--sklearn-color-text);\n",
       "}\n",
       "\n",
       "#sk-container-id-1 pre {\n",
       "  padding: 0;\n",
       "}\n",
       "\n",
       "#sk-container-id-1 input.sk-hidden--visually {\n",
       "  border: 0;\n",
       "  clip: rect(1px 1px 1px 1px);\n",
       "  clip: rect(1px, 1px, 1px, 1px);\n",
       "  height: 1px;\n",
       "  margin: -1px;\n",
       "  overflow: hidden;\n",
       "  padding: 0;\n",
       "  position: absolute;\n",
       "  width: 1px;\n",
       "}\n",
       "\n",
       "#sk-container-id-1 div.sk-dashed-wrapped {\n",
       "  border: 1px dashed var(--sklearn-color-line);\n",
       "  margin: 0 0.4em 0.5em 0.4em;\n",
       "  box-sizing: border-box;\n",
       "  padding-bottom: 0.4em;\n",
       "  background-color: var(--sklearn-color-background);\n",
       "}\n",
       "\n",
       "#sk-container-id-1 div.sk-container {\n",
       "  /* jupyter's `normalize.less` sets `[hidden] { display: none; }`\n",
       "     but bootstrap.min.css set `[hidden] { display: none !important; }`\n",
       "     so we also need the `!important` here to be able to override the\n",
       "     default hidden behavior on the sphinx rendered scikit-learn.org.\n",
       "     See: https://github.com/scikit-learn/scikit-learn/issues/21755 */\n",
       "  display: inline-block !important;\n",
       "  position: relative;\n",
       "}\n",
       "\n",
       "#sk-container-id-1 div.sk-text-repr-fallback {\n",
       "  display: none;\n",
       "}\n",
       "\n",
       "div.sk-parallel-item,\n",
       "div.sk-serial,\n",
       "div.sk-item {\n",
       "  /* draw centered vertical line to link estimators */\n",
       "  background-image: linear-gradient(var(--sklearn-color-text-on-default-background), var(--sklearn-color-text-on-default-background));\n",
       "  background-size: 2px 100%;\n",
       "  background-repeat: no-repeat;\n",
       "  background-position: center center;\n",
       "}\n",
       "\n",
       "/* Parallel-specific style estimator block */\n",
       "\n",
       "#sk-container-id-1 div.sk-parallel-item::after {\n",
       "  content: \"\";\n",
       "  width: 100%;\n",
       "  border-bottom: 2px solid var(--sklearn-color-text-on-default-background);\n",
       "  flex-grow: 1;\n",
       "}\n",
       "\n",
       "#sk-container-id-1 div.sk-parallel {\n",
       "  display: flex;\n",
       "  align-items: stretch;\n",
       "  justify-content: center;\n",
       "  background-color: var(--sklearn-color-background);\n",
       "  position: relative;\n",
       "}\n",
       "\n",
       "#sk-container-id-1 div.sk-parallel-item {\n",
       "  display: flex;\n",
       "  flex-direction: column;\n",
       "}\n",
       "\n",
       "#sk-container-id-1 div.sk-parallel-item:first-child::after {\n",
       "  align-self: flex-end;\n",
       "  width: 50%;\n",
       "}\n",
       "\n",
       "#sk-container-id-1 div.sk-parallel-item:last-child::after {\n",
       "  align-self: flex-start;\n",
       "  width: 50%;\n",
       "}\n",
       "\n",
       "#sk-container-id-1 div.sk-parallel-item:only-child::after {\n",
       "  width: 0;\n",
       "}\n",
       "\n",
       "/* Serial-specific style estimator block */\n",
       "\n",
       "#sk-container-id-1 div.sk-serial {\n",
       "  display: flex;\n",
       "  flex-direction: column;\n",
       "  align-items: center;\n",
       "  background-color: var(--sklearn-color-background);\n",
       "  padding-right: 1em;\n",
       "  padding-left: 1em;\n",
       "}\n",
       "\n",
       "\n",
       "/* Toggleable style: style used for estimator/Pipeline/ColumnTransformer box that is\n",
       "clickable and can be expanded/collapsed.\n",
       "- Pipeline and ColumnTransformer use this feature and define the default style\n",
       "- Estimators will overwrite some part of the style using the `sk-estimator` class\n",
       "*/\n",
       "\n",
       "/* Pipeline and ColumnTransformer style (default) */\n",
       "\n",
       "#sk-container-id-1 div.sk-toggleable {\n",
       "  /* Default theme specific background. It is overwritten whether we have a\n",
       "  specific estimator or a Pipeline/ColumnTransformer */\n",
       "  background-color: var(--sklearn-color-background);\n",
       "}\n",
       "\n",
       "/* Toggleable label */\n",
       "#sk-container-id-1 label.sk-toggleable__label {\n",
       "  cursor: pointer;\n",
       "  display: flex;\n",
       "  width: 100%;\n",
       "  margin-bottom: 0;\n",
       "  padding: 0.5em;\n",
       "  box-sizing: border-box;\n",
       "  text-align: center;\n",
       "  align-items: start;\n",
       "  justify-content: space-between;\n",
       "  gap: 0.5em;\n",
       "}\n",
       "\n",
       "#sk-container-id-1 label.sk-toggleable__label .caption {\n",
       "  font-size: 0.6rem;\n",
       "  font-weight: lighter;\n",
       "  color: var(--sklearn-color-text-muted);\n",
       "}\n",
       "\n",
       "#sk-container-id-1 label.sk-toggleable__label-arrow:before {\n",
       "  /* Arrow on the left of the label */\n",
       "  content: \"▸\";\n",
       "  float: left;\n",
       "  margin-right: 0.25em;\n",
       "  color: var(--sklearn-color-icon);\n",
       "}\n",
       "\n",
       "#sk-container-id-1 label.sk-toggleable__label-arrow:hover:before {\n",
       "  color: var(--sklearn-color-text);\n",
       "}\n",
       "\n",
       "/* Toggleable content - dropdown */\n",
       "\n",
       "#sk-container-id-1 div.sk-toggleable__content {\n",
       "  max-height: 0;\n",
       "  max-width: 0;\n",
       "  overflow: hidden;\n",
       "  text-align: left;\n",
       "  /* unfitted */\n",
       "  background-color: var(--sklearn-color-unfitted-level-0);\n",
       "}\n",
       "\n",
       "#sk-container-id-1 div.sk-toggleable__content.fitted {\n",
       "  /* fitted */\n",
       "  background-color: var(--sklearn-color-fitted-level-0);\n",
       "}\n",
       "\n",
       "#sk-container-id-1 div.sk-toggleable__content pre {\n",
       "  margin: 0.2em;\n",
       "  border-radius: 0.25em;\n",
       "  color: var(--sklearn-color-text);\n",
       "  /* unfitted */\n",
       "  background-color: var(--sklearn-color-unfitted-level-0);\n",
       "}\n",
       "\n",
       "#sk-container-id-1 div.sk-toggleable__content.fitted pre {\n",
       "  /* unfitted */\n",
       "  background-color: var(--sklearn-color-fitted-level-0);\n",
       "}\n",
       "\n",
       "#sk-container-id-1 input.sk-toggleable__control:checked~div.sk-toggleable__content {\n",
       "  /* Expand drop-down */\n",
       "  max-height: 200px;\n",
       "  max-width: 100%;\n",
       "  overflow: auto;\n",
       "}\n",
       "\n",
       "#sk-container-id-1 input.sk-toggleable__control:checked~label.sk-toggleable__label-arrow:before {\n",
       "  content: \"▾\";\n",
       "}\n",
       "\n",
       "/* Pipeline/ColumnTransformer-specific style */\n",
       "\n",
       "#sk-container-id-1 div.sk-label input.sk-toggleable__control:checked~label.sk-toggleable__label {\n",
       "  color: var(--sklearn-color-text);\n",
       "  background-color: var(--sklearn-color-unfitted-level-2);\n",
       "}\n",
       "\n",
       "#sk-container-id-1 div.sk-label.fitted input.sk-toggleable__control:checked~label.sk-toggleable__label {\n",
       "  background-color: var(--sklearn-color-fitted-level-2);\n",
       "}\n",
       "\n",
       "/* Estimator-specific style */\n",
       "\n",
       "/* Colorize estimator box */\n",
       "#sk-container-id-1 div.sk-estimator input.sk-toggleable__control:checked~label.sk-toggleable__label {\n",
       "  /* unfitted */\n",
       "  background-color: var(--sklearn-color-unfitted-level-2);\n",
       "}\n",
       "\n",
       "#sk-container-id-1 div.sk-estimator.fitted input.sk-toggleable__control:checked~label.sk-toggleable__label {\n",
       "  /* fitted */\n",
       "  background-color: var(--sklearn-color-fitted-level-2);\n",
       "}\n",
       "\n",
       "#sk-container-id-1 div.sk-label label.sk-toggleable__label,\n",
       "#sk-container-id-1 div.sk-label label {\n",
       "  /* The background is the default theme color */\n",
       "  color: var(--sklearn-color-text-on-default-background);\n",
       "}\n",
       "\n",
       "/* On hover, darken the color of the background */\n",
       "#sk-container-id-1 div.sk-label:hover label.sk-toggleable__label {\n",
       "  color: var(--sklearn-color-text);\n",
       "  background-color: var(--sklearn-color-unfitted-level-2);\n",
       "}\n",
       "\n",
       "/* Label box, darken color on hover, fitted */\n",
       "#sk-container-id-1 div.sk-label.fitted:hover label.sk-toggleable__label.fitted {\n",
       "  color: var(--sklearn-color-text);\n",
       "  background-color: var(--sklearn-color-fitted-level-2);\n",
       "}\n",
       "\n",
       "/* Estimator label */\n",
       "\n",
       "#sk-container-id-1 div.sk-label label {\n",
       "  font-family: monospace;\n",
       "  font-weight: bold;\n",
       "  display: inline-block;\n",
       "  line-height: 1.2em;\n",
       "}\n",
       "\n",
       "#sk-container-id-1 div.sk-label-container {\n",
       "  text-align: center;\n",
       "}\n",
       "\n",
       "/* Estimator-specific */\n",
       "#sk-container-id-1 div.sk-estimator {\n",
       "  font-family: monospace;\n",
       "  border: 1px dotted var(--sklearn-color-border-box);\n",
       "  border-radius: 0.25em;\n",
       "  box-sizing: border-box;\n",
       "  margin-bottom: 0.5em;\n",
       "  /* unfitted */\n",
       "  background-color: var(--sklearn-color-unfitted-level-0);\n",
       "}\n",
       "\n",
       "#sk-container-id-1 div.sk-estimator.fitted {\n",
       "  /* fitted */\n",
       "  background-color: var(--sklearn-color-fitted-level-0);\n",
       "}\n",
       "\n",
       "/* on hover */\n",
       "#sk-container-id-1 div.sk-estimator:hover {\n",
       "  /* unfitted */\n",
       "  background-color: var(--sklearn-color-unfitted-level-2);\n",
       "}\n",
       "\n",
       "#sk-container-id-1 div.sk-estimator.fitted:hover {\n",
       "  /* fitted */\n",
       "  background-color: var(--sklearn-color-fitted-level-2);\n",
       "}\n",
       "\n",
       "/* Specification for estimator info (e.g. \"i\" and \"?\") */\n",
       "\n",
       "/* Common style for \"i\" and \"?\" */\n",
       "\n",
       ".sk-estimator-doc-link,\n",
       "a:link.sk-estimator-doc-link,\n",
       "a:visited.sk-estimator-doc-link {\n",
       "  float: right;\n",
       "  font-size: smaller;\n",
       "  line-height: 1em;\n",
       "  font-family: monospace;\n",
       "  background-color: var(--sklearn-color-background);\n",
       "  border-radius: 1em;\n",
       "  height: 1em;\n",
       "  width: 1em;\n",
       "  text-decoration: none !important;\n",
       "  margin-left: 0.5em;\n",
       "  text-align: center;\n",
       "  /* unfitted */\n",
       "  border: var(--sklearn-color-unfitted-level-1) 1pt solid;\n",
       "  color: var(--sklearn-color-unfitted-level-1);\n",
       "}\n",
       "\n",
       ".sk-estimator-doc-link.fitted,\n",
       "a:link.sk-estimator-doc-link.fitted,\n",
       "a:visited.sk-estimator-doc-link.fitted {\n",
       "  /* fitted */\n",
       "  border: var(--sklearn-color-fitted-level-1) 1pt solid;\n",
       "  color: var(--sklearn-color-fitted-level-1);\n",
       "}\n",
       "\n",
       "/* On hover */\n",
       "div.sk-estimator:hover .sk-estimator-doc-link:hover,\n",
       ".sk-estimator-doc-link:hover,\n",
       "div.sk-label-container:hover .sk-estimator-doc-link:hover,\n",
       ".sk-estimator-doc-link:hover {\n",
       "  /* unfitted */\n",
       "  background-color: var(--sklearn-color-unfitted-level-3);\n",
       "  color: var(--sklearn-color-background);\n",
       "  text-decoration: none;\n",
       "}\n",
       "\n",
       "div.sk-estimator.fitted:hover .sk-estimator-doc-link.fitted:hover,\n",
       ".sk-estimator-doc-link.fitted:hover,\n",
       "div.sk-label-container:hover .sk-estimator-doc-link.fitted:hover,\n",
       ".sk-estimator-doc-link.fitted:hover {\n",
       "  /* fitted */\n",
       "  background-color: var(--sklearn-color-fitted-level-3);\n",
       "  color: var(--sklearn-color-background);\n",
       "  text-decoration: none;\n",
       "}\n",
       "\n",
       "/* Span, style for the box shown on hovering the info icon */\n",
       ".sk-estimator-doc-link span {\n",
       "  display: none;\n",
       "  z-index: 9999;\n",
       "  position: relative;\n",
       "  font-weight: normal;\n",
       "  right: .2ex;\n",
       "  padding: .5ex;\n",
       "  margin: .5ex;\n",
       "  width: min-content;\n",
       "  min-width: 20ex;\n",
       "  max-width: 50ex;\n",
       "  color: var(--sklearn-color-text);\n",
       "  box-shadow: 2pt 2pt 4pt #999;\n",
       "  /* unfitted */\n",
       "  background: var(--sklearn-color-unfitted-level-0);\n",
       "  border: .5pt solid var(--sklearn-color-unfitted-level-3);\n",
       "}\n",
       "\n",
       ".sk-estimator-doc-link.fitted span {\n",
       "  /* fitted */\n",
       "  background: var(--sklearn-color-fitted-level-0);\n",
       "  border: var(--sklearn-color-fitted-level-3);\n",
       "}\n",
       "\n",
       ".sk-estimator-doc-link:hover span {\n",
       "  display: block;\n",
       "}\n",
       "\n",
       "/* \"?\"-specific style due to the `<a>` HTML tag */\n",
       "\n",
       "#sk-container-id-1 a.estimator_doc_link {\n",
       "  float: right;\n",
       "  font-size: 1rem;\n",
       "  line-height: 1em;\n",
       "  font-family: monospace;\n",
       "  background-color: var(--sklearn-color-background);\n",
       "  border-radius: 1rem;\n",
       "  height: 1rem;\n",
       "  width: 1rem;\n",
       "  text-decoration: none;\n",
       "  /* unfitted */\n",
       "  color: var(--sklearn-color-unfitted-level-1);\n",
       "  border: var(--sklearn-color-unfitted-level-1) 1pt solid;\n",
       "}\n",
       "\n",
       "#sk-container-id-1 a.estimator_doc_link.fitted {\n",
       "  /* fitted */\n",
       "  border: var(--sklearn-color-fitted-level-1) 1pt solid;\n",
       "  color: var(--sklearn-color-fitted-level-1);\n",
       "}\n",
       "\n",
       "/* On hover */\n",
       "#sk-container-id-1 a.estimator_doc_link:hover {\n",
       "  /* unfitted */\n",
       "  background-color: var(--sklearn-color-unfitted-level-3);\n",
       "  color: var(--sklearn-color-background);\n",
       "  text-decoration: none;\n",
       "}\n",
       "\n",
       "#sk-container-id-1 a.estimator_doc_link.fitted:hover {\n",
       "  /* fitted */\n",
       "  background-color: var(--sklearn-color-fitted-level-3);\n",
       "}\n",
       "</style><div id=\"sk-container-id-1\" class=\"sk-top-container\"><div class=\"sk-text-repr-fallback\"><pre>RandomForestClassifier()</pre><b>In a Jupyter environment, please rerun this cell to show the HTML representation or trust the notebook. <br />On GitHub, the HTML representation is unable to render, please try loading this page with nbviewer.org.</b></div><div class=\"sk-container\" hidden><div class=\"sk-item\"><div class=\"sk-estimator fitted sk-toggleable\"><input class=\"sk-toggleable__control sk-hidden--visually\" id=\"sk-estimator-id-1\" type=\"checkbox\" checked><label for=\"sk-estimator-id-1\" class=\"sk-toggleable__label fitted sk-toggleable__label-arrow\"><div><div>RandomForestClassifier</div></div><div><a class=\"sk-estimator-doc-link fitted\" rel=\"noreferrer\" target=\"_blank\" href=\"https://scikit-learn.org/1.6/modules/generated/sklearn.ensemble.RandomForestClassifier.html\">?<span>Documentation for RandomForestClassifier</span></a><span class=\"sk-estimator-doc-link fitted\">i<span>Fitted</span></span></div></label><div class=\"sk-toggleable__content fitted\"><pre>RandomForestClassifier()</pre></div> </div></div></div></div>"
      ],
      "text/plain": [
       "RandomForestClassifier()"
      ]
     },
     "execution_count": 2,
     "metadata": {},
     "output_type": "execute_result"
    }
   ],
   "source": [
    "from sklearn.ensemble import RandomForestClassifier\n",
    "from sklearn.tree import DecisionTreeClassifier\n",
    "from sklearn.neighbors import KNeighborsClassifier\n",
    "\n",
    "# K-Nearest Neighbors (KNN)\n",
    "# https://www.datacamp.com/tutorial/k-nearest-neighbor-classification-scikit-learn\n",
    "N_NEIGHBORS = 5\n",
    "knn = KNeighborsClassifier(n_neighbors=N_NEIGHBORS)\n",
    "knn.fit(x_train_data, y_train_data)\n",
    "\n",
    "# Decision Tree\n",
    "# https://www.datacamp.com/tutorial/decision-tree-classification-python\n",
    "MAX_DEPTH = 5\n",
    "dtc = DecisionTreeClassifier(max_depth=MAX_DEPTH)\n",
    "dtc.fit(x_train_data, y_train_data)\n",
    "\n",
    "# Random Forest\n",
    "# https://www.datacamp.com/tutorial/random-forests-classifier-python\n",
    "N_ESTIMATORS = 100\n",
    "rfc = RandomForestClassifier(n_estimators=N_ESTIMATORS)\n",
    "rfc.fit(x_train_data, y_train_data)\n"
   ]
  },
  {
   "cell_type": "markdown",
   "id": "59fe380aba47d230",
   "metadata": {
    "collapsed": false,
    "jupyter": {
     "outputs_hidden": false
    }
   },
   "source": []
  },
  {
   "cell_type": "markdown",
   "id": "edf7c09ac99d411f",
   "metadata": {
    "collapsed": false,
    "jupyter": {
     "outputs_hidden": false
    }
   },
   "source": [
    "## Task 3: Evaluation\n",
    "> Setup utils"
   ]
  },
  {
   "cell_type": "code",
   "execution_count": 3,
   "id": "c75132f528024b9b",
   "metadata": {
    "ExecuteTime": {
     "end_time": "2025-01-31T02:12:12.178948300Z",
     "start_time": "2025-01-31T02:12:12.175416Z"
    },
    "collapsed": false,
    "jupyter": {
     "outputs_hidden": false
    }
   },
   "outputs": [],
   "source": [
    "from typing import Tuple\n",
    "from numpy import ndarray\n",
    "import seaborn as sns\n",
    "import matplotlib.pyplot as plt\n",
    "from sklearn.metrics import confusion_matrix\n",
    "from sklearn.metrics import accuracy_score, precision_score, recall_score, f1_score\n",
    "\n",
    "\n",
    "def print_and_save_metrics(classifier_name: str, y_pred: ndarray, y_test: ndarray) -> Tuple[float, float, float, float]:\n",
    "    \"\"\"\n",
    "    Print metrics of a prediction\n",
    "\n",
    "    :param classifier_name: Name of classifier used to make prediction\n",
    "    :param y_pred: The predicted values\n",
    "    :param y_test: The expected values\n",
    "    :return: accuracy, precision, recall, and f1 score\n",
    "    \"\"\"\n",
    "    # calc\n",
    "    accuracy = accuracy_score(y_test, y_pred)\n",
    "    precision = precision_score(y_test, y_pred)\n",
    "    recall = recall_score(y_test, y_pred)\n",
    "    f1 = f1_score(y_test, y_pred)\n",
    "    # display\n",
    "    print(classifier_name)\n",
    "    print(f\"\\tAccuracy: {accuracy}\")\n",
    "    print(f\"\\tPrecision: {precision}\")\n",
    "    print(f\"\\tRecall: {recall}\")\n",
    "    print(f\"\\tF1-score: {f1}\")\n",
    "    \n",
    "    return accuracy, precision, recall, f1"
   ]
  },
  {
   "cell_type": "markdown",
   "id": "b28a45bea8efeed5",
   "metadata": {
    "collapsed": false,
    "jupyter": {
     "outputs_hidden": false
    }
   },
   "source": [
    "## Task 3: Evaluation\n",
    "> K-Nearest Neighbors (KNN)"
   ]
  },
  {
   "cell_type": "markdown",
   "id": "c07d34f309980b0d",
   "metadata": {
    "collapsed": false,
    "jupyter": {
     "outputs_hidden": false
    }
   },
   "source": []
  },
  {
   "cell_type": "code",
   "execution_count": 4,
   "id": "5cbbf6c2cef5a31d",
   "metadata": {
    "ExecuteTime": {
     "end_time": "2025-01-31T02:12:12.600773Z",
     "start_time": "2025-01-31T02:12:12.182230400Z"
    },
    "collapsed": false,
    "jupyter": {
     "outputs_hidden": false
    }
   },
   "outputs": [
    {
     "name": "stdout",
     "output_type": "stream",
     "text": [
      "K-Nearest Neighbors\n",
      "\tAccuracy: 0.9824561403508771\n",
      "\tPrecision: 0.972972972972973\n",
      "\tRecall: 1.0\n",
      "\tF1-score: 0.9863013698630136\n"
     ]
    },
    {
     "data": {
      "image/png": "[encoded data removed]",
      "text/plain": [
       "<Figure size 600x500 with 2 Axes>"
      ]
     },
     "metadata": {},
     "output_type": "display_data"
    }
   ],
   "source": [
    "# predict\n",
    "knn_y_pred = knn.predict(x_test_data)\n",
    "cm = confusion_matrix(y_test_data, knn_y_pred)\n",
    "\n",
    "# print metrics\n",
    "knn_accuracy, knn_precision, knn_recall, knn_f1 = print_and_save_metrics(\"K-Nearest Neighbors\", knn_y_pred, y_test_data)\n",
    "\n",
    "# plot confusion matrix\n",
    "plt.figure(figsize=(6, 5))\n",
    "sns.heatmap(cm, annot=True, fmt='d', cmap='Reds', xticklabels=[\"Malignant\", \"Benign\"], yticklabels=[\"Malignant\", \"Benign\"])\n",
    "plt.xlabel(\"Predicted Label\")\n",
    "plt.ylabel(\"True Label\")\n",
    "plt.title(\"Confusion Matrix for KNN\")\n",
    "plt.show()"
   ]
  },
  {
   "cell_type": "markdown",
   "id": "7a4d3acd12c321e5",
   "metadata": {
    "collapsed": false,
    "jupyter": {
     "outputs_hidden": false
    }
   },
   "source": [
    "## Task 3: Evaluation\n",
    "> Decision Tree"
   ]
  },
  {
   "cell_type": "code",
   "execution_count": 5,
   "id": "64dd71e8d2c099f7",
   "metadata": {
    "ExecuteTime": {
     "end_time": "2025-01-31T02:12:12.722846500Z",
     "start_time": "2025-01-31T02:12:12.598653600Z"
    },
    "collapsed": false,
    "jupyter": {
     "outputs_hidden": false
    }
   },
   "outputs": [
    {
     "name": "stdout",
     "output_type": "stream",
     "text": [
      "Decision Tree\n",
      "\tAccuracy: 0.9649122807017544\n",
      "\tPrecision: 0.9722222222222222\n",
      "\tRecall: 0.9722222222222222\n",
      "\tF1-score: 0.9722222222222222\n"
     ]
    },
    {
     "data": {
      "image/png": "[encoded data removed]",
      "text/plain": [
       "<Figure size 600x500 with 2 Axes>"
      ]
     },
     "metadata": {},
     "output_type": "display_data"
    }
   ],
   "source": [
    "# predict\n",
    "dt_y_pred = dtc.predict(x_test_data)\n",
    "cm = confusion_matrix(y_test_data, dt_y_pred)\n",
    "\n",
    "# print metrics\n",
    "dt_accuracy, dt_precision, dt_recall, dt_f1 = print_and_save_metrics(\"Decision Tree\", dt_y_pred, y_test_data)\n",
    "\n",
    "# plot confusion matrix\n",
    "plt.figure(figsize=(6, 5))\n",
    "sns.heatmap(cm, annot=True, fmt='d', cmap='Reds', xticklabels=[\"Malignant\", \"Benign\"], yticklabels=[\"Malignant\", \"Benign\"])\n",
    "plt.xlabel(\"Predicted Label\")\n",
    "plt.ylabel(\"True Label\")\n",
    "plt.title(\"Confusion Matrix for Decision Tree\")\n",
    "plt.show()"
   ]
  },
  {
   "cell_type": "markdown",
   "id": "7421d17bc730fb14",
   "metadata": {
    "collapsed": false,
    "jupyter": {
     "outputs_hidden": false
    }
   },
   "source": [
    "## Task 3: Evaluation\n",
    "> Random Forest"
   ]
  },
  {
   "cell_type": "code",
   "execution_count": 6,
   "id": "1badd3fedd613bcd",
   "metadata": {
    "ExecuteTime": {
     "end_time": "2025-01-31T02:12:12.846829100Z",
     "start_time": "2025-01-31T02:12:12.720710800Z"
    },
    "collapsed": false,
    "jupyter": {
     "outputs_hidden": false
    }
   },
   "outputs": [
    {
     "name": "stdout",
     "output_type": "stream",
     "text": [
      "Random Forest\n",
      "\tAccuracy: 0.9385964912280702\n",
      "\tPrecision: 0.9452054794520548\n",
      "\tRecall: 0.9583333333333334\n",
      "\tF1-score: 0.9517241379310345\n"
     ]
    },
    {
     "data": {
      "image/png": "[encoded data removed]",
      "text/plain": [
       "<Figure size 600x500 with 2 Axes>"
      ]
     },
     "metadata": {},
     "output_type": "display_data"
    }
   ],
   "source": [
    "# predict\n",
    "rf_y_pred = rfc.predict(x_test_data)\n",
    "cm = confusion_matrix(y_test_data, rf_y_pred)\n",
    "\n",
    "# print metrics\n",
    "rf_accuracy, rf_precision, rf_recall, rf_f1 = print_and_save_metrics(\"Random Forest\", rf_y_pred, y_test_data)\n",
    "\n",
    "# plot confusion matrix\n",
    "plt.figure(figsize=(6, 5))\n",
    "sns.heatmap(cm, annot=True, fmt='d', cmap='Reds', xticklabels=[\"Malignant\", \"Benign\"], yticklabels=[\"Malignant\", \"Benign\"])\n",
    "plt.xlabel(\"Predicted Label\")\n",
    "plt.ylabel(\"True Label\")\n",
    "plt.title(\"Confusion Matrix for Random Forest\")\n",
    "plt.show()"
   ]
  },
  {
   "cell_type": "markdown",
   "id": "b7b291d20119ed9c",
   "metadata": {
    "collapsed": false,
    "jupyter": {
     "outputs_hidden": false
    }
   },
   "source": [
    "## Task 3: Evaluation\n",
    "> Compare all results"
   ]
  },
  {
   "cell_type": "code",
   "execution_count": 7,
   "id": "df5bdad7d4178744",
   "metadata": {
    "ExecuteTime": {
     "end_time": "2025-01-31T02:12:12.968570300Z",
     "start_time": "2025-01-31T02:12:12.843654800Z"
    },
    "collapsed": false,
    "jupyter": {
     "outputs_hidden": false
    }
   },
   "outputs": [
    {
     "data": {
      "image/png": "[encoded data removed]",
      "text/plain": [
       "<Figure size 800x500 with 1 Axes>"
      ]
     },
     "metadata": {},
     "output_type": "display_data"
    }
   ],
   "source": [
    "import numpy as np\n",
    "import pandas as pd\n",
    "\n",
    "df = pd.DataFrame({\n",
    "    'Metric': [\"Accuracy\", \"Precision\", \"Recall\", \"F1-Score\"],\n",
    "    'K-Nearest Neighbors': [knn_accuracy, knn_precision, knn_recall, knn_f1],\n",
    "    'Decision Tree': [dt_accuracy, dt_precision, dt_recall, dt_f1],\n",
    "    'Random Forest': [rf_accuracy, rf_precision, rf_recall, rf_f1]\n",
    "})\n",
    "\n",
    "# config bars\n",
    "x = np.arange(len(df['Metric']))\n",
    "width = 0.2\n",
    "\n",
    "# create fig\n",
    "fig, ax = plt.subplots(figsize=(8, 5))\n",
    "\n",
    "# group bars together\n",
    "ax.bar(x - width, df['K-Nearest Neighbors'], width, label='K-Nearest Neighbors', color='b')\n",
    "ax.bar(x, df['Decision Tree'], width, label='Decision Tree', color='g')\n",
    "ax.bar(x + width, df['Random Forest'], width, label='Random Forest', color='r')\n",
    "\n",
    "# label graph\n",
    "ax.set_xlabel(\"Metric\")\n",
    "ax.set_ylabel(\"Score\")\n",
    "ax.set_title(\"Model Metric Comparison\")\n",
    "ax.set_xticks(x)\n",
    "ax.set_xticklabels(df['Metric'])\n",
    "ax.legend().set_loc(\"lower right\")\n",
    "\n",
    "# Show plot\n",
    "plt.show()"
   ]
  },
  {
   "cell_type": "markdown",
   "id": "cb1cc58a7ae000b1",
   "metadata": {
    "collapsed": false,
    "jupyter": {
     "outputs_hidden": false
    }
   },
   "source": [
    "## Task 4: Ablation Study\n",
    "> K-Nearest Neighbors (KNN)"
   ]
  },
  {
   "cell_type": "code",
   "execution_count": 8,
   "id": "d827bf6514409aa",
   "metadata": {
    "ExecuteTime": {
     "end_time": "2025-01-31T02:12:13.146580200Z",
     "start_time": "2025-01-31T02:12:12.972994600Z"
    },
    "collapsed": false,
    "jupyter": {
     "outputs_hidden": false
    }
   },
   "outputs": [
    {
     "name": "stdout",
     "output_type": "stream",
     "text": [
      "K-Nearest Neighbors (k=3)\n",
      "\tAccuracy: 0.9824561403508771\n",
      "\tPrecision: 0.9861111111111112\n",
      "\tRecall: 0.9861111111111112\n",
      "\tF1-score: 0.9861111111111112\n",
      "K-Nearest Neighbors (k=10)\n",
      "\tAccuracy: 0.9824561403508771\n",
      "\tPrecision: 0.972972972972973\n",
      "\tRecall: 1.0\n",
      "\tF1-score: 0.9863013698630136\n"
     ]
    },
    {
     "data": {
      "image/png": "[encoded data removed]",
      "text/plain": [
       "<Figure size 800x500 with 1 Axes>"
      ]
     },
     "metadata": {},
     "output_type": "display_data"
    }
   ],
   "source": [
    "# Case 1: k is low\n",
    "# retrain model\n",
    "N_NEIGHBORS = 3\n",
    "knn = KNeighborsClassifier(n_neighbors=N_NEIGHBORS)\n",
    "knn.fit(x_train_data, y_train_data)\n",
    "\n",
    "# predict\n",
    "knn_y_pred = knn.predict(x_test_data)\n",
    "\n",
    "# print metrics\n",
    "knn3_accuracy, knn3_precision, knn3_recall, knn3_f1 = print_and_save_metrics(\"K-Nearest Neighbors (k=3)\", knn_y_pred, y_test_data)\n",
    "\n",
    "# Case 2: k is high\n",
    "# retrain model\n",
    "N_NEIGHBORS = 10\n",
    "knn = KNeighborsClassifier(n_neighbors=N_NEIGHBORS)\n",
    "knn.fit(x_train_data, y_train_data)\n",
    "\n",
    "# predict\n",
    "knn_y_pred = knn.predict(x_test_data)\n",
    "\n",
    "# print metrics\n",
    "knn10_accuracy, knn10_precision, knn10_recall, knn10_f1 = print_and_save_metrics(\"K-Nearest Neighbors (k=10)\", knn_y_pred, y_test_data)\n",
    "\n",
    "# print graph\n",
    "df = pd.DataFrame({\n",
    "    'Metric': [\"Accuracy\", \"Precision\", \"Recall\", \"F1-Score\"],\n",
    "    '3': [knn3_accuracy, knn3_precision, knn3_recall, knn3_f1],\n",
    "    '5': [knn_accuracy, knn_precision, knn_recall, knn_f1],\n",
    "    '10': [knn10_accuracy, knn10_precision, knn10_recall, knn10_f1]\n",
    "})\n",
    "\n",
    "# config bars\n",
    "x = np.arange(len(df['Metric']))\n",
    "width = 0.2\n",
    "\n",
    "# create fig\n",
    "fig, ax = plt.subplots(figsize=(8, 5))\n",
    "\n",
    "# group bars together\n",
    "ax.bar(x - width, df['3'], width, label='K is Low', color='b')\n",
    "ax.bar(x, df['5'], width, label='Baseline', color='g')\n",
    "ax.bar(x + width, df['10'], width, label='K is High', color='r')\n",
    "\n",
    "# set y so can see changes\n",
    "plt.gca().set_ylim(0.8, 1.01)\n",
    "\n",
    "# label graph\n",
    "ax.set_xlabel(\"Metric\")\n",
    "ax.set_ylabel(\"Score\")\n",
    "ax.set_title(\"K value Metric Comparison for KNN\")\n",
    "ax.set_xticks(x)\n",
    "ax.set_xticklabels(df['Metric'])\n",
    "ax.legend().set_loc(\"lower right\")\n",
    "\n",
    "# Show plot\n",
    "plt.show()"
   ]
  },
  {
   "cell_type": "markdown",
   "id": "4bf735aabdc7a2a4",
   "metadata": {
    "collapsed": false,
    "jupyter": {
     "outputs_hidden": false
    }
   },
   "source": [
    "## Task 4: Ablation Study\n",
    "> Decision Tree"
   ]
  },
  {
   "cell_type": "code",
   "execution_count": 9,
   "id": "5a71e9afb68a0ebf",
   "metadata": {
    "ExecuteTime": {
     "end_time": "2025-01-31T02:12:13.305156Z",
     "start_time": "2025-01-31T02:12:13.145504800Z"
    },
    "collapsed": false,
    "jupyter": {
     "outputs_hidden": false
    }
   },
   "outputs": [
    {
     "name": "stdout",
     "output_type": "stream",
     "text": [
      "Decision Tree (d=3)\n",
      "\tAccuracy: 0.9649122807017544\n",
      "\tPrecision: 0.9722222222222222\n",
      "\tRecall: 0.9722222222222222\n",
      "\tF1-score: 0.9722222222222222\n",
      "Decision Tree (d=10)\n",
      "\tAccuracy: 0.9649122807017544\n",
      "\tPrecision: 0.9722222222222222\n",
      "\tRecall: 0.9722222222222222\n",
      "\tF1-score: 0.9722222222222222\n"
     ]
    },
    {
     "data": {
      "image/png": "[encoded data removed]",
      "text/plain": [
       "<Figure size 800x500 with 1 Axes>"
      ]
     },
     "metadata": {},
     "output_type": "display_data"
    }
   ],
   "source": [
    "# Case 1: depth is low\n",
    "MAX_DEPTH = 3\n",
    "dtc = DecisionTreeClassifier(max_depth=MAX_DEPTH)\n",
    "dtc.fit(x_train_data, y_train_data)\n",
    "\n",
    "# print metrics\n",
    "dt3_accuracy, dt3_precision, dt3_recall, dt3_f1 = print_and_save_metrics(\"Decision Tree (d=3)\", dt_y_pred, y_test_data)\n",
    "\n",
    "# Case 2: depth is high\n",
    "MAX_DEPTH = 10\n",
    "dtc = DecisionTreeClassifier(max_depth=MAX_DEPTH)\n",
    "dtc.fit(x_train_data, y_train_data)\n",
    "\n",
    "# print metrics\n",
    "dt10_accuracy, dt10_precision, dt10_recall, dt10_f1 = print_and_save_metrics(\"Decision Tree (d=10)\", dt_y_pred, y_test_data)\n",
    "\n",
    "df = pd.DataFrame({\n",
    "    'Metric': [\"Accuracy\", \"Precision\", \"Recall\", \"F1-Score\"],\n",
    "    '3': [dt3_accuracy, dt3_precision, dt3_recall, dt3_f1],\n",
    "    '5': [dt_accuracy, dt_precision, dt_recall, dt_f1],\n",
    "    '10': [dt10_accuracy, dt10_precision, dt10_recall, dt10_f1]\n",
    "})\n",
    "\n",
    "# config bars\n",
    "x = np.arange(len(df['Metric']))\n",
    "width = 0.2\n",
    "\n",
    "# create fig\n",
    "fig, ax = plt.subplots(figsize=(8, 5))\n",
    "\n",
    "# group bars together\n",
    "ax.bar(x - width, df['3'], width, label='D is Low', color='b')\n",
    "ax.bar(x, df['5'], width, label='Baseline', color='g')\n",
    "ax.bar(x + width, df['10'], width, label='D is High', color='r')\n",
    "\n",
    "# set y so can see changes\n",
    "plt.gca().set_ylim(0.8, 1)\n",
    "\n",
    "# label graph\n",
    "ax.set_xlabel(\"Metric\")\n",
    "ax.set_ylabel(\"Score\")\n",
    "ax.set_title(\"Depth Metric Comparison for Decision Trees\")\n",
    "ax.set_xticks(x)\n",
    "ax.set_xticklabels(df['Metric'])\n",
    "ax.legend().set_loc(\"lower right\")\n",
    "\n",
    "# Show plot\n",
    "plt.show()"
   ]
  },
  {
   "cell_type": "markdown",
   "id": "d7df2fe8c0c56bb0",
   "metadata": {
    "collapsed": false,
    "jupyter": {
     "outputs_hidden": false
    }
   },
   "source": [
    "## Task 4: Ablation Study\n",
    "> Random Forest"
   ]
  },
  {
   "cell_type": "code",
   "execution_count": 10,
   "id": "5e64fa6f11b5d2c4",
   "metadata": {
    "ExecuteTime": {
     "end_time": "2025-01-31T02:12:15.327320800Z",
     "start_time": "2025-01-31T02:12:13.308405100Z"
    },
    "collapsed": false,
    "jupyter": {
     "outputs_hidden": false
    }
   },
   "outputs": [
    {
     "name": "stdout",
     "output_type": "stream",
     "text": [
      "Random Forest (n=10)\n",
      "\tAccuracy: 0.9385964912280702\n",
      "\tPrecision: 0.9452054794520548\n",
      "\tRecall: 0.9583333333333334\n",
      "\tF1-score: 0.9517241379310345\n",
      "Random Forest (n=1000)\n",
      "\tAccuracy: 0.9385964912280702\n",
      "\tPrecision: 0.9452054794520548\n",
      "\tRecall: 0.9583333333333334\n",
      "\tF1-score: 0.9517241379310345\n"
     ]
    },
    {
     "data": {
      "image/png": "[encoded data removed]",
      "text/plain": [
       "<Figure size 800x500 with 1 Axes>"
      ]
     },
     "metadata": {},
     "output_type": "display_data"
    }
   ],
   "source": [
    "# Case 1: depth is low\n",
    "N_ESTIMATORS = 10\n",
    "rfc = RandomForestClassifier(n_estimators=N_ESTIMATORS)\n",
    "rfc.fit(x_train_data, y_train_data)\n",
    "\n",
    "# print metrics\n",
    "rf10_accuracy, rf10_precision, rf10_recall, rf10_f1 = print_and_save_metrics(\"Random Forest (n=10)\", rf_y_pred, y_test_data)\n",
    "\n",
    "# Case 2: depth is high\n",
    "N_ESTIMATORS = 1000\n",
    "rfc = RandomForestClassifier(n_estimators=N_ESTIMATORS)\n",
    "rfc.fit(x_train_data, y_train_data)\n",
    "\n",
    "# print metrics\n",
    "rf1000_accuracy, rf1000_precision, rf1000_recall, rf1000_f1 = print_and_save_metrics(\"Random Forest (n=1000)\", rf_y_pred, y_test_data)\n",
    "\n",
    "df = pd.DataFrame({\n",
    "    'Metric': [\"Accuracy\", \"Precision\", \"Recall\", \"F1-Score\"],\n",
    "    '10': [rf10_accuracy, rf10_precision, rf10_recall, rf10_f1],\n",
    "    '100': [rf_accuracy, rf_precision, rf_recall, rf_f1],\n",
    "    '1000': [rf1000_accuracy, rf1000_precision, rf1000_recall, rf1000_f1]\n",
    "})\n",
    "\n",
    "# config bars\n",
    "x = np.arange(len(df['Metric']))\n",
    "width = 0.2\n",
    "\n",
    "# create fig\n",
    "fig, ax = plt.subplots(figsize=(8, 5))\n",
    "\n",
    "# group bars together\n",
    "ax.bar(x - width, df['10'], width, label='N is Low', color='b')\n",
    "ax.bar(x, df['100'], width, label='Baseline', color='g')\n",
    "ax.bar(x + width, df['1000'], width, label='N is High', color='r')\n",
    "\n",
    "# set y so can see changes\n",
    "plt.gca().set_ylim(0.9, 1)\n",
    "\n",
    "# label graph\n",
    "ax.set_xlabel(\"Metric\")\n",
    "ax.set_ylabel(\"Score\")\n",
    "ax.set_title(\"Estimators Metric Comparison\")\n",
    "ax.set_xticks(x)\n",
    "ax.set_xticklabels(df['Metric'])\n",
    "ax.legend().set_loc(\"lower right\")\n",
    "\n",
    "# Show plot\n",
    "plt.show()"
   ]
  }
 ],
 "metadata": {
  "kernelspec": {
   "display_name": "Python 3 (ipykernel)",
   "language": "python",
   "name": "python3"
  },
  "language_info": {
   "codemirror_mode": {
    "name": "ipython",
    "version": 3
   },
   "file_extension": ".py",
   "mimetype": "text/x-python",
   "name": "python",
   "nbconvert_exporter": "python",
   "pygments_lexer": "ipython3",
   "version": "3.12.1"
  }
 },
 "nbformat": 4,
 "nbformat_minor": 5
}
