{
 "cells": [
  {
   "cell_type": "markdown",
   "source": [
    "# ICS 635 - Assignment 4\n",
    "> Derek Garcia\n",
    "\n",
    "## Load and Normalize FashionMNIST"
   ],
   "metadata": {
    "collapsed": false
   },
   "id": "16910c78833e2b4e"
  },
  {
   "cell_type": "code",
   "execution_count": 2,
   "id": "initial_id",
   "metadata": {
    "collapsed": true,
    "ExecuteTime": {
     "end_time": "2025-04-08T03:23:54.401490800Z",
     "start_time": "2025-04-08T03:23:54.311567900Z"
    }
   },
   "outputs": [],
   "source": [
    "from torch.utils.data import random_split\n",
    "from torchvision import datasets, transforms\n",
    "\n",
    "# Download training data\n",
    "fashion_train_data = datasets.FashionMNIST(\n",
    "    root='./data',  # save images to ./data\n",
    "    train=True,     # training data\n",
    "    download=True,  # download locally\n",
    "    transform=transforms.ToTensor()     # Normalize the images to the range [0,1]\n",
    ")\n",
    "# split into 80/20 testing and validation\n",
    "size = len(fashion_train_data)\n",
    "train_size = int(0.8 * size)\n",
    "validation_size = size - train_size\n",
    "train, validation = random_split(fashion_train_data, [train_size, validation_size])\n",
    "\n",
    "# download the testing data\n",
    "test = datasets.FashionMNIST(\n",
    "    root='./data',  # save images to ./data\n",
    "    train=False,    # testing data\n",
    "    download=True,  # download locally\n",
    "    transform=transforms.ToTensor()     # Normalize the images to the range [0,1]\n",
    ")"
   ]
  }
 ],
 "metadata": {
  "kernelspec": {
   "display_name": "Python 3",
   "language": "python",
   "name": "python3"
  },
  "language_info": {
   "codemirror_mode": {
    "name": "ipython",
    "version": 2
   },
   "file_extension": ".py",
   "mimetype": "text/x-python",
   "name": "python",
   "nbconvert_exporter": "python",
   "pygments_lexer": "ipython2",
   "version": "2.7.6"
  }
 },
 "nbformat": 4,
 "nbformat_minor": 5
}
