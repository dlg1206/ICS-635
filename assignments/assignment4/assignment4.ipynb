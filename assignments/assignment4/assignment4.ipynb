{
 "cells": [
  {
   "cell_type": "markdown",
   "source": [
    "# ICS 635 - Assignment 4\n",
    "> Derek Garcia\n",
    "\n",
    "## Load and Normalize FashionMNIST"
   ],
   "metadata": {
    "collapsed": false
   },
   "id": "16910c78833e2b4e"
  },
  {
   "cell_type": "code",
   "execution_count": null,
   "id": "initial_id",
   "metadata": {
    "collapsed": true
   },
   "outputs": [],
   "source": [
    "from torch.utils.data import random_split, DataLoader\n",
    "from torchvision import datasets, transforms\n",
    "\n",
    "# Download training data\n",
    "fashion_train_data = datasets.FashionMNIST(\n",
    "    root='./data',  # save images to ./data\n",
    "    train=True,     # training data\n",
    "    download=True,  # download locally\n",
    "    transform=transforms.ToTensor()     # Normalize the images to the range [0,1]\n",
    ")\n",
    "# split into 80/20 testing and validation\n",
    "size = len(fashion_train_data)\n",
    "train_size = int(0.8 * size)\n",
    "validation_size = size - train_size\n",
    "train, validation = random_split(fashion_train_data, [train_size, validation_size])\n",
    "\n",
    "# download the testing data\n",
    "test = datasets.FashionMNIST(\n",
    "    root='./data',  # save images to ./data\n",
    "    train=False,    # testing data\n",
    "    download=True,  # download locally\n",
    "    transform=transforms.ToTensor()     # Normalize the images to the range [0,1]\n",
    ")\n",
    "\n",
    "# create loaders\n",
    "train_loader = DataLoader(train, batch_size=64, shuffle=True)\n",
    "validation_loader = DataLoader(validation, batch_size=64, shuffle=True)\n",
    "test_loader = DataLoader(test, batch_size=64, shuffle=False)"
   ]
  },
  {
   "cell_type": "markdown",
   "source": [
    "## Building the CNN Model"
   ],
   "metadata": {
    "collapsed": false
   },
   "id": "743fa0050aac4943"
  },
  {
   "cell_type": "code",
   "outputs": [],
   "source": [
    "from torch import nn\n",
    "import torch\n",
    "\n",
    "# Tutorial: https://www.youtube.com/watch?v=pDdP0TFzsoQ\n",
    "device = torch.device(\"cuda\" if torch.cuda.is_available() else \"cpu\")\n",
    "\n",
    "# implement conv net\n",
    "class CNN(nn.Module):\n",
    "    def __init__(self):\n",
    "        # todo\n",
    "        pass\n",
    "\n",
    "    def forward(self, x):\n",
    "        # todo\n",
    "        pass\n"
   ],
   "metadata": {
    "collapsed": false
   },
   "id": "d83c6ba72cc0e315",
   "execution_count": null
  },
  {
   "cell_type": "markdown",
   "source": [
    "## Training the Model"
   ],
   "metadata": {
    "collapsed": false
   },
   "id": "97284e6142356db2"
  },
  {
   "cell_type": "code",
   "outputs": [],
   "source": [
    "model = CNN().to(device)\n",
    "criterion = nn.CrossEntropyLoss()   # loss function\n",
    "optimizer = torch.optim.SGD(model.parameters()) # optimizer\n",
    "\n",
    "# Initialize variables to track the best epoch\n",
    "best_val_loss = float('inf')\n",
    "best_val_epoch = 0\n",
    "best_model_wts = model.state_dict()\n",
    "\n",
    "# training loop\n",
    "epochs = 5\n",
    "for epoch in range(epochs):\n",
    "    model.train()\n",
    "    # track training for early stopping\n",
    "    running_loss = 0.0\n",
    "    correct_train = 0\n",
    "    total_train = 0\n",
    "    \n",
    "    for images, labels in train_loader:\n",
    "        images, labels = images.to(device), labels.to(device)\n",
    "        \n",
    "        # Forward pass\n",
    "        outputs = model(images)\n",
    "        loss = criterion(outputs, labels)   # calc loss\n",
    "        \n",
    "        # Backward pass\n",
    "        optimizer.zero_grad()\n",
    "        loss.backward()\n",
    "        optimizer.step()\n",
    "        \n",
    "        # track train loss\n",
    "        running_loss += loss.item() * images.size(0)\n",
    "        # track train accuracy\n",
    "        _, predicted = torch.max(outputs.data, 1)\n",
    "        total_train += labels.size(0)\n",
    "        # sum correct matches\n",
    "        for p in predicted:\n",
    "            correct_train += 1 if p == labels else 0\n",
    "        \n",
    "    # calculate avg training loss and accuracy\n",
    "    train_loss = running_loss / len(train_loader.dataset)\n",
    "    train_acc = (correct_train / total_train) * 100\n",
    "    \n",
    "    # validation loop\n",
    "    model.eval()  # set model to evaluation mode\n",
    "    correct_val = 0\n",
    "    total_val = 0\n",
    "    running_val_loss = 0.0\n",
    "    \n",
    "    with torch.no_grad():  # no_grad disables gradiant calc to save memory b/c not updating weights\n",
    "        for images, labels in validation_loader:\n",
    "            images, labels = images.to(device), labels.to(device)\n",
    "            \n",
    "            # Forward pass\n",
    "            outputs = model(images)\n",
    "            loss = criterion(outputs, labels)   # calc loss\n",
    "            \n",
    "            # Calculate loss\n",
    "            val_loss = criterion(outputs, labels)\n",
    "            \n",
    "            # track validation loss\n",
    "            running_val_loss += loss.item() * images.size(0)\n",
    "            # track validation accuracy\n",
    "            _, predicted = torch.max(outputs.data, 1)\n",
    "            total_val += labels.size(0)\n",
    "            # sum correct matches\n",
    "            for p in predicted:\n",
    "                correct_val += 1 if p == labels else 0\n",
    "            \n",
    "    # Calculate average validation loss and accuracy\n",
    "    val_loss = running_val_loss / len(validation_loader.dataset)\n",
    "    val_acc = (correct_val / total_val) * 100\n",
    "\n",
    "    print(f\"Epoch [{epoch+1}/{epochs}] - \"\n",
    "          f\"Train Loss: {train_loss:.4f}, Train Accuracy: {train_acc:.2f}% - \"\n",
    "          f\"Val Loss: {val_loss:.4f}, Val Accuracy: {val_acc:.2f}%\")\n",
    "    \n",
    "    # Save model if beats previous\n",
    "    if val_loss < best_val_loss:\n",
    "        best_val_loss = val_loss\n",
    "        best_val_epoch = epoch\n",
    "        best_model_wts = model.state_dict()\n",
    "        \n",
    "# after all epochs, use best model\n",
    "model.load_state_dict(best_model_wts)\n",
    "print(f\"Best validation: epoch {best_val_epoch + 1}\")\n",
    "\n",
    "# Test best model\n",
    "model.eval() \n",
    "correct_test = 0\n",
    "total_test = 0\n",
    "running_test_loss = 0.0\n",
    "\n",
    "with torch.no_grad():\n",
    "    for images, labels in test_loader:\n",
    "        images, labels = images.to(device), labels.to(device)\n",
    "        \n",
    "        # Forward pass\n",
    "        outputs = model(images)\n",
    "        \n",
    "        # Calculate loss\n",
    "        test_loss = criterion(outputs, labels)\n",
    "        running_test_loss += test_loss.item() * images.size(0)\n",
    "        \n",
    "        # Track test accuracy\n",
    "        _, predicted = torch.max(outputs.data, 1)\n",
    "        total_test += labels.size(0)\n",
    "        for p in predicted:\n",
    "            correct_test += 1 if p == labels else 0\n",
    "\n",
    "# Calculate average test loss and accuracy\n",
    "test_loss = running_test_loss / len(test_loader.dataset)\n",
    "test_acc = (correct_test / total_test) * 100\n",
    "\n",
    "print(f\"Test Loss: {test_loss:.4f}, Test Accuracy: {test_acc:.2f}%\")"
   ],
   "metadata": {
    "collapsed": false
   },
   "id": "ba208a1b22b1ed41",
   "execution_count": null
  }
 ],
 "metadata": {
  "kernelspec": {
   "display_name": "Python 3",
   "language": "python",
   "name": "python3"
  },
  "language_info": {
   "codemirror_mode": {
    "name": "ipython",
    "version": 2
   },
   "file_extension": ".py",
   "mimetype": "text/x-python",
   "name": "python",
   "nbconvert_exporter": "python",
   "pygments_lexer": "ipython2",
   "version": "2.7.6"
  }
 },
 "nbformat": 4,
 "nbformat_minor": 5
}
