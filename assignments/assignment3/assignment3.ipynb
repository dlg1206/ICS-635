{
 "cells": [
  {
   "cell_type": "markdown",
   "id": "ff1c0d52e50abbb9",
   "metadata": {
    "collapsed": false
   },
   "source": [
    "# ICS 635 - Assignment 3\n",
    "> Derek Garcia\n",
    "\n",
    "## Load and Scale Cross Validation Data"
   ]
  },
  {
   "cell_type": "code",
   "execution_count": 1,
   "id": "1cfa08e43052df94",
   "metadata": {
    "collapsed": false,
    "execution": {
     "iopub.execute_input": "2025-03-11T01:29:14.470580Z",
     "iopub.status.busy": "2025-03-11T01:29:14.470361Z",
     "iopub.status.idle": "2025-03-11T01:29:15.433618Z",
     "shell.execute_reply": "2025-03-11T01:29:15.433085Z"
    }
   },
   "outputs": [],
   "source": [
    "from sklearn.preprocessing import StandardScaler  \n",
    "import pandas as pd\n",
    "\n",
    "TRAINING_DATA_CSV = \"data/train.csv\"\n",
    "\n",
    "training_df = pd.read_csv(TRAINING_DATA_CSV) # load csv\n",
    "\n",
    "# split into labels (y) and features (x)\n",
    "y, x = training_df.iloc[:, 0], training_df.iloc[:, 1:]\n",
    "\n",
    "# scale features\n",
    "# fit_transform on first training to learn AND apply transformation, then just transform the test - don't re-learn\n",
    "scaler = StandardScaler()\n",
    "x_scaled = scaler.fit_transform(x)"
   ]
  },
  {
   "cell_type": "markdown",
   "id": "c8a4d16f7378ae76",
   "metadata": {
    "collapsed": false
   },
   "source": [
    "## Model Selection"
   ]
  },
  {
   "cell_type": "code",
   "execution_count": 2,
   "id": "initial_id",
   "metadata": {
    "collapsed": true,
    "execution": {
     "iopub.execute_input": "2025-03-11T01:29:15.435853Z",
     "iopub.status.busy": "2025-03-11T01:29:15.435683Z",
     "iopub.status.idle": "2025-03-11T02:04:53.331868Z",
     "shell.execute_reply": "2025-03-11T02:04:53.326245Z"
    }
   },
   "outputs": [
    {
     "name": "stdout",
     "output_type": "stream",
     "text": [
      "\r",
      "2025-03-10 15:29:15.579759 | \u001b[97mINFO\u001b[00m   | None | cross validating models using 5 folds:   0%|                                            | 0/29 [00:00<?, ?model/s]\u001b[0m"
     ]
    },
    {
     "name": "stdout",
     "output_type": "stream",
     "text": [
      "\r",
      "2025-03-10 15:29:15.579759 | \u001b[97mINFO\u001b[00m   | None | cross validating models using 5 folds:   3%|█▏                                  | 1/29 [00:07<03:31,  7.54s/model]\u001b[0m"
     ]
    },
    {
     "name": "stdout",
     "output_type": "stream",
     "text": [
      "\r",
      "2025-03-10 15:29:15.579759 | \u001b[97mINFO\u001b[00m   | None | cross validating models using 5 folds:   7%|██▍                                 | 2/29 [00:20<04:42, 10.46s/model]\u001b[0m"
     ]
    },
    {
     "name": "stdout",
     "output_type": "stream",
     "text": [
      "\r",
      "2025-03-10 15:29:15.579759 | \u001b[97mINFO\u001b[00m   | None | cross validating models using 5 folds:  10%|███▋                                | 3/29 [00:20<02:36,  6.01s/model]\u001b[0m"
     ]
    },
    {
     "name": "stdout",
     "output_type": "stream",
     "text": [
      "\r",
      "2025-03-10 15:29:15.579759 | \u001b[97mINFO\u001b[00m   | None | cross validating models using 5 folds:  14%|████▉                               | 4/29 [00:22<01:50,  4.44s/model]\u001b[0m"
     ]
    },
    {
     "name": "stdout",
     "output_type": "stream",
     "text": [
      "\r",
      "2025-03-10 15:29:15.579759 | \u001b[97mINFO\u001b[00m   | None | cross validating models using 5 folds:  17%|██████▏                             | 5/29 [00:24<01:25,  3.55s/model]\u001b[0m"
     ]
    },
    {
     "name": "stdout",
     "output_type": "stream",
     "text": [
      "\r",
      "2025-03-10 15:29:15.579759 | \u001b[97mINFO\u001b[00m   | None | cross validating models using 5 folds:  21%|███████▍                            | 6/29 [00:24<00:55,  2.39s/model]\u001b[0m"
     ]
    },
    {
     "name": "stdout",
     "output_type": "stream",
     "text": [
      "\r",
      "2025-03-10 15:29:15.579759 | \u001b[97mINFO\u001b[00m   | None | cross validating models using 5 folds:  24%|████████▋                           | 7/29 [00:25<00:37,  1.69s/model]\u001b[0m"
     ]
    },
    {
     "name": "stdout",
     "output_type": "stream",
     "text": [
      "\r",
      "2025-03-10 15:29:15.579759 | \u001b[97mINFO\u001b[00m   | None | cross validating models using 5 folds:  28%|█████████▉                          | 8/29 [00:31<01:06,  3.15s/model]\u001b[0m"
     ]
    },
    {
     "name": "stdout",
     "output_type": "stream",
     "text": [
      "\r",
      "2025-03-10 15:29:15.579759 | \u001b[97mINFO\u001b[00m   | None | cross validating models using 5 folds:  31%|███████████▏                        | 9/29 [00:31<00:44,  2.22s/model]\u001b[0m"
     ]
    },
    {
     "name": "stdout",
     "output_type": "stream",
     "text": [
      "2025-03-10 15:30:00.778090 | \u001b[93mWARN\u001b[00m  | Failed to score 'GaussianProcessClassifier'\n",
      "\r",
      "2025-03-10 15:29:15.579759 | \u001b[97mINFO\u001b[00m   | None | cross validating models using 5 folds:  34%|████████████                       | 10/29 [00:45<01:50,  5.81s/model]\u001b[0m"
     ]
    },
    {
     "name": "stdout",
     "output_type": "stream",
     "text": [
      "\r",
      "2025-03-10 15:29:15.579759 | \u001b[97mINFO\u001b[00m   | None | cross validating models using 5 folds:  38%|█████████████▎                     | 11/29 [01:21<04:32, 15.13s/model]\u001b[0m"
     ]
    },
    {
     "name": "stdout",
     "output_type": "stream",
     "text": [
      "\r",
      "2025-03-10 15:29:15.579759 | \u001b[97mINFO\u001b[00m   | None | cross validating models using 5 folds:  41%|██████████████▍                    | 12/29 [01:23<03:10, 11.18s/model]\u001b[0m"
     ]
    },
    {
     "name": "stdout",
     "output_type": "stream",
     "text": [
      "\r",
      "2025-03-10 15:29:15.579759 | \u001b[97mINFO\u001b[00m   | None | cross validating models using 5 folds:  45%|███████████████▋                   | 13/29 [01:26<02:15,  8.47s/model]\u001b[0m"
     ]
    },
    {
     "name": "stdout",
     "output_type": "stream",
     "text": [
      "2025-03-10 15:30:57.176613 | \u001b[93mWARN\u001b[00m  | Failed to score 'LabelPropagation'\n",
      "\r",
      "2025-03-10 15:29:15.579759 | \u001b[97mINFO\u001b[00m   | None | cross validating models using 5 folds:  48%|████████████████▉                  | 14/29 [01:41<02:39, 10.67s/model]\u001b[0m"
     ]
    },
    {
     "name": "stdout",
     "output_type": "stream",
     "text": [
      "2025-03-10 15:31:13.540118 | \u001b[93mWARN\u001b[00m  | Failed to score 'LabelSpreading'\n",
      "\r",
      "2025-03-10 15:29:15.579759 | \u001b[97mINFO\u001b[00m   | None | cross validating models using 5 folds:  52%|██████████████████                 | 15/29 [01:58<02:53, 12.36s/model]\u001b[0m"
     ]
    },
    {
     "name": "stdout",
     "output_type": "stream",
     "text": [
      "\r",
      "2025-03-10 15:29:15.579759 | \u001b[97mINFO\u001b[00m   | None | cross validating models using 5 folds:  55%|███████████████████▎               | 16/29 [02:00<02:00,  9.26s/model]\u001b[0m"
     ]
    },
    {
     "name": "stdout",
     "output_type": "stream",
     "text": [
      "\r",
      "2025-03-10 15:29:15.579759 | \u001b[97mINFO\u001b[00m   | None | cross validating models using 5 folds:  59%|████████████████████▌              | 17/29 [02:01<01:22,  6.86s/model]\u001b[0m"
     ]
    },
    {
     "name": "stdout",
     "output_type": "stream",
     "text": [
      "\r",
      "2025-03-10 15:29:15.579759 | \u001b[97mINFO\u001b[00m   | None | cross validating models using 5 folds:  62%|█████████████████████▋             | 18/29 [02:02<00:55,  5.05s/model]\u001b[0m"
     ]
    },
    {
     "name": "stdout",
     "output_type": "stream",
     "text": [
      "\r",
      "2025-03-10 15:29:15.579759 | \u001b[97mINFO\u001b[00m   | None | cross validating models using 5 folds:  66%|██████████████████████▉            | 19/29 [02:03<00:39,  3.96s/model]\u001b[0m"
     ]
    },
    {
     "name": "stdout",
     "output_type": "stream",
     "text": [
      "2025-03-10 15:31:19.575590 | \u001b[93mWARN\u001b[00m  | Failed to score 'MultinomialNB'\n",
      "\r",
      "2025-03-10 15:29:15.579759 | \u001b[97mINFO\u001b[00m   | None | cross validating models using 5 folds:  69%|████████████████████████▏          | 20/29 [02:03<00:25,  2.82s/model]\u001b[0m"
     ]
    },
    {
     "name": "stdout",
     "output_type": "stream",
     "text": [
      "\r",
      "2025-03-10 15:29:15.579759 | \u001b[97mINFO\u001b[00m   | None | cross validating models using 5 folds:  72%|█████████████████████████▎         | 21/29 [02:04<00:16,  2.04s/model]\u001b[0m"
     ]
    },
    {
     "name": "stdout",
     "output_type": "stream",
     "text": [
      "\r",
      "2025-03-10 15:29:15.579759 | \u001b[97mINFO\u001b[00m   | None | cross validating models using 5 folds:  76%|████████████████████████▎       | 22/29 [31:51<1:02:45, 537.87s/model]\u001b[0m"
     ]
    },
    {
     "name": "stdout",
     "output_type": "stream",
     "text": [
      "\r",
      "2025-03-10 15:29:15.579759 | \u001b[97mINFO\u001b[00m   | None | cross validating models using 5 folds:  79%|██████████████████████████▉       | 23/29 [31:52<37:40, 376.77s/model]\u001b[0m"
     ]
    },
    {
     "name": "stdout",
     "output_type": "stream",
     "text": [
      "\r",
      "2025-03-10 15:29:15.579759 | \u001b[97mINFO\u001b[00m   | None | cross validating models using 5 folds:  83%|████████████████████████████▏     | 24/29 [31:53<21:59, 263.98s/model]\u001b[0m"
     ]
    },
    {
     "name": "stdout",
     "output_type": "stream",
     "text": [
      "\r",
      "2025-03-10 15:29:15.579759 | \u001b[97mINFO\u001b[00m   | None | cross validating models using 5 folds:  86%|█████████████████████████████▎    | 25/29 [32:16<12:46, 191.59s/model]\u001b[0m"
     ]
    },
    {
     "name": "stdout",
     "output_type": "stream",
     "text": [
      "\r",
      "2025-03-10 15:29:15.579759 | \u001b[97mINFO\u001b[00m   | None | cross validating models using 5 folds:  90%|██████████████████████████████▍   | 26/29 [32:16<06:43, 134.34s/model]\u001b[0m"
     ]
    },
    {
     "name": "stdout",
     "output_type": "stream",
     "text": [
      "\r",
      "2025-03-10 15:29:15.579759 | \u001b[97mINFO\u001b[00m   | None | cross validating models using 5 folds:  93%|████████████████████████████████▌  | 27/29 [32:17<03:08, 94.16s/model]\u001b[0m"
     ]
    },
    {
     "name": "stdout",
     "output_type": "stream",
     "text": [
      "\r",
      "2025-03-10 15:29:15.579759 | \u001b[97mINFO\u001b[00m   | None | cross validating models using 5 folds:  97%|█████████████████████████████████▊ | 28/29 [32:17<01:06, 66.10s/model]\u001b[0m"
     ]
    },
    {
     "name": "stdout",
     "output_type": "stream",
     "text": [
      "\r",
      "2025-03-10 15:29:15.579759 | \u001b[97mINFO\u001b[00m   | None | cross validating models using 5 folds: 100%|██████████████████████████████████| 29/29 [35:37<00:00, 106.11s/model]\u001b[0m"
     ]
    },
    {
     "name": "stdout",
     "output_type": "stream",
     "text": [
      "\r",
      "2025-03-10 15:29:15.579759 | \u001b[97mINFO\u001b[00m   | None | cross validating models using 5 folds: 100%|███████████████████████████████████| 29/29 [35:37<00:00, 73.70s/model]\u001b[0m"
     ]
    },
    {
     "name": "stdout",
     "output_type": "stream",
     "text": [
      "\n"
     ]
    },
    {
     "data": {
      "text/html": [
       "<div>\n",
       "<style scoped>\n",
       "    .dataframe tbody tr th:only-of-type {\n",
       "        vertical-align: middle;\n",
       "    }\n",
       "\n",
       "    .dataframe tbody tr th {\n",
       "        vertical-align: top;\n",
       "    }\n",
       "\n",
       "    .dataframe thead th {\n",
       "        text-align: right;\n",
       "    }\n",
       "</style>\n",
       "<table border=\"1\" class=\"dataframe\">\n",
       "  <thead>\n",
       "    <tr style=\"text-align: right;\">\n",
       "      <th></th>\n",
       "      <th>avg_score</th>\n",
       "    </tr>\n",
       "    <tr>\n",
       "      <th>model</th>\n",
       "      <th></th>\n",
       "    </tr>\n",
       "  </thead>\n",
       "  <tbody>\n",
       "    <tr>\n",
       "      <th>HistGradientBoostingClassifier</th>\n",
       "      <td>0.71958</td>\n",
       "    </tr>\n",
       "    <tr>\n",
       "      <th>RandomForestClassifier</th>\n",
       "      <td>0.71370</td>\n",
       "    </tr>\n",
       "    <tr>\n",
       "      <th>GradientBoostingClassifier</th>\n",
       "      <td>0.70922</td>\n",
       "    </tr>\n",
       "    <tr>\n",
       "      <th>ExtraTreesClassifier</th>\n",
       "      <td>0.69364</td>\n",
       "    </tr>\n",
       "    <tr>\n",
       "      <th>SVC</th>\n",
       "      <td>0.68912</td>\n",
       "    </tr>\n",
       "    <tr>\n",
       "      <th>BaggingClassifier</th>\n",
       "      <td>0.67658</td>\n",
       "    </tr>\n",
       "    <tr>\n",
       "      <th>AdaBoostClassifier</th>\n",
       "      <td>0.67648</td>\n",
       "    </tr>\n",
       "    <tr>\n",
       "      <th>NuSVC</th>\n",
       "      <td>0.67392</td>\n",
       "    </tr>\n",
       "    <tr>\n",
       "      <th>LogisticRegression</th>\n",
       "      <td>0.64080</td>\n",
       "    </tr>\n",
       "    <tr>\n",
       "      <th>LogisticRegressionCV</th>\n",
       "      <td>0.64072</td>\n",
       "    </tr>\n",
       "    <tr>\n",
       "      <th>QuadraticDiscriminantAnalysis</th>\n",
       "      <td>0.63996</td>\n",
       "    </tr>\n",
       "    <tr>\n",
       "      <th>LinearSVC</th>\n",
       "      <td>0.63986</td>\n",
       "    </tr>\n",
       "    <tr>\n",
       "      <th>RidgeClassifier</th>\n",
       "      <td>0.63976</td>\n",
       "    </tr>\n",
       "    <tr>\n",
       "      <th>CalibratedClassifierCV</th>\n",
       "      <td>0.63972</td>\n",
       "    </tr>\n",
       "    <tr>\n",
       "      <th>RidgeClassifierCV</th>\n",
       "      <td>0.63960</td>\n",
       "    </tr>\n",
       "    <tr>\n",
       "      <th>LinearDiscriminantAnalysis</th>\n",
       "      <td>0.63952</td>\n",
       "    </tr>\n",
       "    <tr>\n",
       "      <th>SGDClassifier</th>\n",
       "      <td>0.63044</td>\n",
       "    </tr>\n",
       "    <tr>\n",
       "      <th>DecisionTreeClassifier</th>\n",
       "      <td>0.62712</td>\n",
       "    </tr>\n",
       "    <tr>\n",
       "      <th>BernoulliNB</th>\n",
       "      <td>0.61726</td>\n",
       "    </tr>\n",
       "    <tr>\n",
       "      <th>KNeighborsClassifier</th>\n",
       "      <td>0.61630</td>\n",
       "    </tr>\n",
       "    <tr>\n",
       "      <th>GaussianNB</th>\n",
       "      <td>0.59902</td>\n",
       "    </tr>\n",
       "    <tr>\n",
       "      <th>NearestCentroid</th>\n",
       "      <td>0.58456</td>\n",
       "    </tr>\n",
       "    <tr>\n",
       "      <th>ExtraTreeClassifier</th>\n",
       "      <td>0.56656</td>\n",
       "    </tr>\n",
       "    <tr>\n",
       "      <th>Perceptron</th>\n",
       "      <td>0.55318</td>\n",
       "    </tr>\n",
       "    <tr>\n",
       "      <th>DummyClassifier</th>\n",
       "      <td>0.53130</td>\n",
       "    </tr>\n",
       "  </tbody>\n",
       "</table>\n",
       "</div>"
      ],
      "text/plain": [
       "                                avg_score\n",
       "model                                    \n",
       "HistGradientBoostingClassifier    0.71958\n",
       "RandomForestClassifier            0.71370\n",
       "GradientBoostingClassifier        0.70922\n",
       "ExtraTreesClassifier              0.69364\n",
       "SVC                               0.68912\n",
       "BaggingClassifier                 0.67658\n",
       "AdaBoostClassifier                0.67648\n",
       "NuSVC                             0.67392\n",
       "LogisticRegression                0.64080\n",
       "LogisticRegressionCV              0.64072\n",
       "QuadraticDiscriminantAnalysis     0.63996\n",
       "LinearSVC                         0.63986\n",
       "RidgeClassifier                   0.63976\n",
       "CalibratedClassifierCV            0.63972\n",
       "RidgeClassifierCV                 0.63960\n",
       "LinearDiscriminantAnalysis        0.63952\n",
       "SGDClassifier                     0.63044\n",
       "DecisionTreeClassifier            0.62712\n",
       "BernoulliNB                       0.61726\n",
       "KNeighborsClassifier              0.61630\n",
       "GaussianNB                        0.59902\n",
       "NearestCentroid                   0.58456\n",
       "ExtraTreeClassifier               0.56656\n",
       "Perceptron                        0.55318\n",
       "DummyClassifier                   0.53130"
      ]
     },
     "execution_count": 2,
     "metadata": {},
     "output_type": "execute_result"
    }
   ],
   "source": [
    "from sklearn.linear_model import LogisticRegression, LogisticRegressionCV, Perceptron, \\\n",
    "    RidgeClassifier, RidgeClassifierCV, SGDClassifier\n",
    "from sklearn.svm import LinearSVC, NuSVC, SVC\n",
    "from sklearn.discriminant_analysis import LinearDiscriminantAnalysis, QuadraticDiscriminantAnalysis\n",
    "from sklearn.semi_supervised import LabelPropagation, LabelSpreading\n",
    "from sklearn.neighbors import KNeighborsClassifier, NearestCentroid\n",
    "from sklearn.gaussian_process import GaussianProcessClassifier\n",
    "from sklearn.dummy import DummyClassifier\n",
    "from sklearn.tree import DecisionTreeClassifier, ExtraTreeClassifier\n",
    "from sklearn.calibration import CalibratedClassifierCV\n",
    "from sklearn.naive_bayes import BernoulliNB, ComplementNB, GaussianNB, MultinomialNB\n",
    "from sklearn.ensemble import AdaBoostClassifier, BaggingClassifier, ExtraTreesClassifier, GradientBoostingClassifier, \\\n",
    "    HistGradientBoostingClassifier, RandomForestClassifier\n",
    "import numpy as np\n",
    "from sklearn.model_selection import cross_val_score\n",
    "from logger import logger\n",
    "import pandas as pd\n",
    "\n",
    "N_FOLDS = 5\n",
    "\n",
    "# https://www.kaggle.com/code/grigol1/all-classification-models-40-sklearn-models\n",
    "MODELS = [\n",
    "    AdaBoostClassifier(),\n",
    "    BaggingClassifier(),\n",
    "    BernoulliNB(),\n",
    "    CalibratedClassifierCV(),\n",
    "    DecisionTreeClassifier(),\n",
    "    DummyClassifier(),\n",
    "    ExtraTreeClassifier(),\n",
    "    ExtraTreesClassifier(),\n",
    "    GaussianNB(),\n",
    "    GaussianProcessClassifier(),\n",
    "    GradientBoostingClassifier(),\n",
    "    HistGradientBoostingClassifier(),\n",
    "    KNeighborsClassifier(),\n",
    "    LabelPropagation(),\n",
    "    LabelSpreading(),\n",
    "    LinearDiscriminantAnalysis(),\n",
    "    LinearSVC(),\n",
    "    LogisticRegression(),\n",
    "    LogisticRegressionCV(),\n",
    "    MultinomialNB(),\n",
    "    NearestCentroid(),\n",
    "    NuSVC(),\n",
    "    Perceptron(),\n",
    "    QuadraticDiscriminantAnalysis(),\n",
    "    RandomForestClassifier(),\n",
    "    RidgeClassifier(),\n",
    "    RidgeClassifierCV(),\n",
    "    SGDClassifier(),\n",
    "    SVC()\n",
    "]\n",
    "\n",
    "# init score tracker\n",
    "cv_score_results = []\n",
    "\n",
    "# cross validate all available models\n",
    "for model in logger.get_data_queue(MODELS, f\"cross validating models using {N_FOLDS} folds\", \"model\"):\n",
    "    try:\n",
    "        avg_score = np.mean(cross_val_score(model, x_scaled, y, cv=N_FOLDS, n_jobs=-1))  # -1 means use all available cores\n",
    "    except Exception:\n",
    "        logger.warn(f\"Failed to score '{model.__class__.__name__}'\")\n",
    "        continue\n",
    "    cv_score_results.append({'model': model.__class__.__name__, 'avg_score': avg_score})\n",
    "\n",
    "# return with best score at top\n",
    "cv_score_df = pd.DataFrame(cv_score_results)\n",
    "cv_score_df.set_index('model', inplace=True)\n",
    "cv_score_df.sort_values(by='avg_score', inplace=True, ascending=False)\n",
    "\n",
    "cv_score_df"
   ]
  },
  {
   "cell_type": "code",
   "execution_count": null,
   "id": "f0e15568fddca8c0",
   "metadata": {
    "collapsed": false
   },
   "outputs": [],
   "source": []
  }
 ],
 "metadata": {
  "kernelspec": {
   "display_name": "Python 3",
   "language": "python",
   "name": "python3"
  },
  "language_info": {
   "codemirror_mode": {
    "name": "ipython",
    "version": 3
   },
   "file_extension": ".py",
   "mimetype": "text/x-python",
   "name": "python",
   "nbconvert_exporter": "python",
   "pygments_lexer": "ipython3",
   "version": "3.12.3"
  }
 },
 "nbformat": 4,
 "nbformat_minor": 5
}
