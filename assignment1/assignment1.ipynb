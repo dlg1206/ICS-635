{
 "cells": [
  {
   "cell_type": "markdown",
   "source": [
    "# ICS 635 - Assignment 1\n",
    "> Derek Garcia"
   ],
   "metadata": {
    "collapsed": false
   },
   "id": "534ae5e34041095a"
  },
  {
   "cell_type": "markdown",
   "source": [
    "## Task 1: Data Preprocessing"
   ],
   "metadata": {
    "collapsed": false
   },
   "id": "bbec1bcb38f50fff"
  },
  {
   "cell_type": "code",
   "outputs": [],
   "source": [
    "from sklearn.model_selection import train_test_split\n",
    "from sklearn.preprocessing import StandardScaler\n",
    "from sklearn.datasets import load_breast_cancer\n",
    "\n",
    "# load data\n",
    "breast_cancer_data = load_breast_cancer()\n",
    "x, y = breast_cancer_data.data, breast_cancer_data.target\n",
    "\n",
    "# split data 80/20 - x are features and y are labels\n",
    "# https://realpython.com/train-test-split-python-data/\n",
    "x_train_data, x_test_data, y_train_data, y_test_data = train_test_split(x, y, test_size=0.2)\n",
    "\n",
    "# scale features\n",
    "# fit_transform on first training to learn AND apply transformation, then just transform the test - don't re-learn\n",
    "scaler = StandardScaler()\n",
    "x_train_data, x_test_data = scaler.fit_transform(x_train_data), scaler.transform(x_test_data)"
   ],
   "metadata": {
    "collapsed": true,
    "ExecuteTime": {
     "end_time": "2025-01-31T01:02:10.589513900Z",
     "start_time": "2025-01-31T01:02:10.566858900Z"
    }
   },
   "id": "initial_id",
   "execution_count": 5
  }
 ],
 "metadata": {
  "kernelspec": {
   "display_name": "Python 3",
   "language": "python",
   "name": "python3"
  },
  "language_info": {
   "codemirror_mode": {
    "name": "ipython",
    "version": 2
   },
   "file_extension": ".py",
   "mimetype": "text/x-python",
   "name": "python",
   "nbconvert_exporter": "python",
   "pygments_lexer": "ipython2",
   "version": "2.7.6"
  }
 },
 "nbformat": 4,
 "nbformat_minor": 5
}
